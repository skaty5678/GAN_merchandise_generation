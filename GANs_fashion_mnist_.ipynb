{
  "nbformat": 4,
  "nbformat_minor": 0,
  "metadata": {
    "colab": {
      "name": "GANs-fashion_mnist .ipynb",
      "provenance": [],
      "authorship_tag": "ABX9TyOsMZ4oAc6RZLN0zsW1nTgs",
      "include_colab_link": true
    },
    "kernelspec": {
      "name": "python3",
      "display_name": "Python 3"
    },
    "language_info": {
      "name": "python"
    },
    "accelerator": "GPU",
    "gpuClass": "standard"
  },
  "cells": [
    {
      "cell_type": "markdown",
      "metadata": {
        "id": "view-in-github",
        "colab_type": "text"
      },
      "source": [
        "<a href=\"https://colab.research.google.com/github/skaty5678/basics_of_GANs/blob/main/GANs_fashion_mnist_.ipynb\" target=\"_parent\"><img src=\"https://colab.research.google.com/assets/colab-badge.svg\" alt=\"Open In Colab\"/></a>"
      ]
    },
    {
      "cell_type": "markdown",
      "source": [
        "# Import dependencies and data"
      ],
      "metadata": {
        "id": "DAQXT7xgc3eB"
      }
    },
    {
      "cell_type": "code",
      "execution_count": 54,
      "metadata": {
        "id": "kMVfi66McoNs"
      },
      "outputs": [],
      "source": [
        "#pip install required dependencies\n",
        "#!pip install tensorflow matplotlib tensorflow-datasets ipywidgets "
      ]
    },
    {
      "cell_type": "code",
      "source": [
        "import tensorflow_datasets as tfds\n",
        "from matplotlib import pyplot as plt"
      ],
      "metadata": {
        "id": "wYsTmG81da1y"
      },
      "execution_count": 55,
      "outputs": []
    },
    {
      "cell_type": "code",
      "source": [
        "#Use the tensorflow datasets api to bring in the data source \n",
        "ds = tfds.load('fashion_mnist',split = 'train')"
      ],
      "metadata": {
        "id": "KuuCZjS9dax7"
      },
      "execution_count": 56,
      "outputs": []
    },
    {
      "cell_type": "code",
      "source": [
        "ds.as_numpy_iterator().next()"
      ],
      "metadata": {
        "id": "RKWCTLqhdau1",
        "colab": {
          "base_uri": "https://localhost:8080/"
        },
        "outputId": "09ddb501-ae66-49e7-ba95-356cd42c8a1a"
      },
      "execution_count": 57,
      "outputs": [
        {
          "output_type": "execute_result",
          "data": {
            "text/plain": [
              "{'image': array([[[  0],\n",
              "         [  0],\n",
              "         [  0],\n",
              "         [  0],\n",
              "         [  0],\n",
              "         [  0],\n",
              "         [  0],\n",
              "         [  0],\n",
              "         [  0],\n",
              "         [ 18],\n",
              "         [ 77],\n",
              "         [227],\n",
              "         [227],\n",
              "         [208],\n",
              "         [210],\n",
              "         [225],\n",
              "         [216],\n",
              "         [ 85],\n",
              "         [ 32],\n",
              "         [  0],\n",
              "         [  0],\n",
              "         [  0],\n",
              "         [  0],\n",
              "         [  0],\n",
              "         [  0],\n",
              "         [  0],\n",
              "         [  0],\n",
              "         [  0]],\n",
              " \n",
              "        [[  0],\n",
              "         [  0],\n",
              "         [  0],\n",
              "         [  0],\n",
              "         [  0],\n",
              "         [  0],\n",
              "         [  0],\n",
              "         [ 61],\n",
              "         [100],\n",
              "         [ 97],\n",
              "         [ 80],\n",
              "         [ 57],\n",
              "         [117],\n",
              "         [227],\n",
              "         [238],\n",
              "         [115],\n",
              "         [ 49],\n",
              "         [ 78],\n",
              "         [106],\n",
              "         [108],\n",
              "         [ 71],\n",
              "         [  0],\n",
              "         [  0],\n",
              "         [  0],\n",
              "         [  0],\n",
              "         [  0],\n",
              "         [  0],\n",
              "         [  0]],\n",
              " \n",
              "        [[  0],\n",
              "         [  0],\n",
              "         [  0],\n",
              "         [  0],\n",
              "         [  0],\n",
              "         [  0],\n",
              "         [ 81],\n",
              "         [105],\n",
              "         [ 80],\n",
              "         [ 69],\n",
              "         [ 72],\n",
              "         [ 64],\n",
              "         [ 44],\n",
              "         [ 21],\n",
              "         [ 13],\n",
              "         [ 44],\n",
              "         [ 69],\n",
              "         [ 75],\n",
              "         [ 75],\n",
              "         [ 80],\n",
              "         [114],\n",
              "         [ 80],\n",
              "         [  0],\n",
              "         [  0],\n",
              "         [  0],\n",
              "         [  0],\n",
              "         [  0],\n",
              "         [  0]],\n",
              " \n",
              "        [[  0],\n",
              "         [  0],\n",
              "         [  0],\n",
              "         [  0],\n",
              "         [  0],\n",
              "         [ 26],\n",
              "         [ 92],\n",
              "         [ 69],\n",
              "         [ 68],\n",
              "         [ 75],\n",
              "         [ 75],\n",
              "         [ 71],\n",
              "         [ 74],\n",
              "         [ 83],\n",
              "         [ 75],\n",
              "         [ 77],\n",
              "         [ 78],\n",
              "         [ 74],\n",
              "         [ 74],\n",
              "         [ 83],\n",
              "         [ 77],\n",
              "         [108],\n",
              "         [ 34],\n",
              "         [  0],\n",
              "         [  0],\n",
              "         [  0],\n",
              "         [  0],\n",
              "         [  0]],\n",
              " \n",
              "        [[  0],\n",
              "         [  0],\n",
              "         [  0],\n",
              "         [  0],\n",
              "         [  0],\n",
              "         [ 55],\n",
              "         [ 92],\n",
              "         [ 69],\n",
              "         [ 74],\n",
              "         [ 74],\n",
              "         [ 71],\n",
              "         [ 71],\n",
              "         [ 77],\n",
              "         [ 69],\n",
              "         [ 66],\n",
              "         [ 75],\n",
              "         [ 74],\n",
              "         [ 77],\n",
              "         [ 80],\n",
              "         [ 80],\n",
              "         [ 78],\n",
              "         [ 94],\n",
              "         [ 63],\n",
              "         [  0],\n",
              "         [  0],\n",
              "         [  0],\n",
              "         [  0],\n",
              "         [  0]],\n",
              " \n",
              "        [[  0],\n",
              "         [  0],\n",
              "         [  0],\n",
              "         [  0],\n",
              "         [  0],\n",
              "         [ 63],\n",
              "         [ 95],\n",
              "         [ 66],\n",
              "         [ 68],\n",
              "         [ 72],\n",
              "         [ 72],\n",
              "         [ 69],\n",
              "         [ 72],\n",
              "         [ 74],\n",
              "         [ 74],\n",
              "         [ 74],\n",
              "         [ 75],\n",
              "         [ 75],\n",
              "         [ 77],\n",
              "         [ 80],\n",
              "         [ 77],\n",
              "         [106],\n",
              "         [ 61],\n",
              "         [  0],\n",
              "         [  0],\n",
              "         [  0],\n",
              "         [  0],\n",
              "         [  0]],\n",
              " \n",
              "        [[  0],\n",
              "         [  0],\n",
              "         [  0],\n",
              "         [  0],\n",
              "         [  0],\n",
              "         [ 80],\n",
              "         [108],\n",
              "         [ 71],\n",
              "         [ 69],\n",
              "         [ 72],\n",
              "         [ 71],\n",
              "         [ 69],\n",
              "         [ 72],\n",
              "         [ 75],\n",
              "         [ 75],\n",
              "         [ 72],\n",
              "         [ 72],\n",
              "         [ 75],\n",
              "         [ 78],\n",
              "         [ 72],\n",
              "         [ 85],\n",
              "         [128],\n",
              "         [ 64],\n",
              "         [  0],\n",
              "         [  0],\n",
              "         [  0],\n",
              "         [  0],\n",
              "         [  0]],\n",
              " \n",
              "        [[  0],\n",
              "         [  0],\n",
              "         [  0],\n",
              "         [  0],\n",
              "         [  0],\n",
              "         [ 88],\n",
              "         [120],\n",
              "         [ 75],\n",
              "         [ 74],\n",
              "         [ 77],\n",
              "         [ 75],\n",
              "         [ 72],\n",
              "         [ 77],\n",
              "         [ 74],\n",
              "         [ 74],\n",
              "         [ 77],\n",
              "         [ 78],\n",
              "         [ 83],\n",
              "         [ 83],\n",
              "         [ 66],\n",
              "         [111],\n",
              "         [123],\n",
              "         [ 78],\n",
              "         [  0],\n",
              "         [  0],\n",
              "         [  0],\n",
              "         [  0],\n",
              "         [  0]],\n",
              " \n",
              "        [[  0],\n",
              "         [  0],\n",
              "         [  0],\n",
              "         [  0],\n",
              "         [  0],\n",
              "         [ 85],\n",
              "         [134],\n",
              "         [ 74],\n",
              "         [ 85],\n",
              "         [ 69],\n",
              "         [ 75],\n",
              "         [ 75],\n",
              "         [ 74],\n",
              "         [ 75],\n",
              "         [ 74],\n",
              "         [ 75],\n",
              "         [ 75],\n",
              "         [ 81],\n",
              "         [ 75],\n",
              "         [ 61],\n",
              "         [151],\n",
              "         [115],\n",
              "         [ 91],\n",
              "         [ 12],\n",
              "         [  0],\n",
              "         [  0],\n",
              "         [  0],\n",
              "         [  0]],\n",
              " \n",
              "        [[  0],\n",
              "         [  0],\n",
              "         [  0],\n",
              "         [  0],\n",
              "         [ 10],\n",
              "         [ 85],\n",
              "         [153],\n",
              "         [ 83],\n",
              "         [ 80],\n",
              "         [ 68],\n",
              "         [ 77],\n",
              "         [ 75],\n",
              "         [ 74],\n",
              "         [ 75],\n",
              "         [ 74],\n",
              "         [ 75],\n",
              "         [ 77],\n",
              "         [ 80],\n",
              "         [ 68],\n",
              "         [ 61],\n",
              "         [162],\n",
              "         [122],\n",
              "         [ 78],\n",
              "         [  6],\n",
              "         [  0],\n",
              "         [  0],\n",
              "         [  0],\n",
              "         [  0]],\n",
              " \n",
              "        [[  0],\n",
              "         [  0],\n",
              "         [  0],\n",
              "         [  0],\n",
              "         [ 30],\n",
              "         [ 75],\n",
              "         [154],\n",
              "         [ 85],\n",
              "         [ 80],\n",
              "         [ 71],\n",
              "         [ 80],\n",
              "         [ 72],\n",
              "         [ 77],\n",
              "         [ 75],\n",
              "         [ 75],\n",
              "         [ 77],\n",
              "         [ 78],\n",
              "         [ 77],\n",
              "         [ 75],\n",
              "         [ 49],\n",
              "         [191],\n",
              "         [132],\n",
              "         [ 72],\n",
              "         [ 15],\n",
              "         [  0],\n",
              "         [  0],\n",
              "         [  0],\n",
              "         [  0]],\n",
              " \n",
              "        [[  0],\n",
              "         [  0],\n",
              "         [  0],\n",
              "         [  0],\n",
              "         [ 58],\n",
              "         [ 66],\n",
              "         [174],\n",
              "         [115],\n",
              "         [ 66],\n",
              "         [ 77],\n",
              "         [ 80],\n",
              "         [ 72],\n",
              "         [ 78],\n",
              "         [ 75],\n",
              "         [ 77],\n",
              "         [ 78],\n",
              "         [ 78],\n",
              "         [ 77],\n",
              "         [ 66],\n",
              "         [ 49],\n",
              "         [222],\n",
              "         [131],\n",
              "         [ 77],\n",
              "         [ 37],\n",
              "         [  0],\n",
              "         [  0],\n",
              "         [  0],\n",
              "         [  0]],\n",
              " \n",
              "        [[  0],\n",
              "         [  0],\n",
              "         [  0],\n",
              "         [  0],\n",
              "         [ 69],\n",
              "         [ 55],\n",
              "         [179],\n",
              "         [139],\n",
              "         [ 55],\n",
              "         [ 92],\n",
              "         [ 74],\n",
              "         [ 74],\n",
              "         [ 78],\n",
              "         [ 74],\n",
              "         [ 78],\n",
              "         [ 77],\n",
              "         [ 75],\n",
              "         [ 80],\n",
              "         [ 64],\n",
              "         [ 55],\n",
              "         [242],\n",
              "         [111],\n",
              "         [ 95],\n",
              "         [ 44],\n",
              "         [  0],\n",
              "         [  0],\n",
              "         [  0],\n",
              "         [  0]],\n",
              " \n",
              "        [[  0],\n",
              "         [  0],\n",
              "         [  0],\n",
              "         [  0],\n",
              "         [ 74],\n",
              "         [ 57],\n",
              "         [159],\n",
              "         [180],\n",
              "         [ 55],\n",
              "         [ 92],\n",
              "         [ 64],\n",
              "         [ 72],\n",
              "         [ 74],\n",
              "         [ 74],\n",
              "         [ 77],\n",
              "         [ 75],\n",
              "         [ 77],\n",
              "         [ 78],\n",
              "         [ 55],\n",
              "         [ 66],\n",
              "         [255],\n",
              "         [ 97],\n",
              "         [108],\n",
              "         [ 49],\n",
              "         [  0],\n",
              "         [  0],\n",
              "         [  0],\n",
              "         [  0]],\n",
              " \n",
              "        [[  0],\n",
              "         [  0],\n",
              "         [  0],\n",
              "         [  0],\n",
              "         [ 74],\n",
              "         [ 66],\n",
              "         [145],\n",
              "         [153],\n",
              "         [ 72],\n",
              "         [ 83],\n",
              "         [ 58],\n",
              "         [ 78],\n",
              "         [ 77],\n",
              "         [ 75],\n",
              "         [ 75],\n",
              "         [ 75],\n",
              "         [ 72],\n",
              "         [ 80],\n",
              "         [ 30],\n",
              "         [132],\n",
              "         [255],\n",
              "         [ 37],\n",
              "         [122],\n",
              "         [ 60],\n",
              "         [  0],\n",
              "         [  0],\n",
              "         [  0],\n",
              "         [  0]],\n",
              " \n",
              "        [[  0],\n",
              "         [  0],\n",
              "         [  0],\n",
              "         [  0],\n",
              "         [ 80],\n",
              "         [ 69],\n",
              "         [142],\n",
              "         [180],\n",
              "         [142],\n",
              "         [ 57],\n",
              "         [ 64],\n",
              "         [ 78],\n",
              "         [ 74],\n",
              "         [ 75],\n",
              "         [ 75],\n",
              "         [ 75],\n",
              "         [ 72],\n",
              "         [ 85],\n",
              "         [ 21],\n",
              "         [185],\n",
              "         [227],\n",
              "         [ 37],\n",
              "         [143],\n",
              "         [ 63],\n",
              "         [  0],\n",
              "         [  0],\n",
              "         [  0],\n",
              "         [  0]],\n",
              " \n",
              "        [[  0],\n",
              "         [  0],\n",
              "         [  0],\n",
              "         [  0],\n",
              "         [ 83],\n",
              "         [ 71],\n",
              "         [136],\n",
              "         [194],\n",
              "         [126],\n",
              "         [ 46],\n",
              "         [ 69],\n",
              "         [ 75],\n",
              "         [ 72],\n",
              "         [ 75],\n",
              "         [ 75],\n",
              "         [ 75],\n",
              "         [ 74],\n",
              "         [ 78],\n",
              "         [ 38],\n",
              "         [139],\n",
              "         [185],\n",
              "         [ 60],\n",
              "         [151],\n",
              "         [ 58],\n",
              "         [  0],\n",
              "         [  0],\n",
              "         [  0],\n",
              "         [  0]],\n",
              " \n",
              "        [[  0],\n",
              "         [  0],\n",
              "         [  0],\n",
              "         [  4],\n",
              "         [ 81],\n",
              "         [ 74],\n",
              "         [145],\n",
              "         [177],\n",
              "         [ 78],\n",
              "         [ 49],\n",
              "         [ 74],\n",
              "         [ 77],\n",
              "         [ 75],\n",
              "         [ 75],\n",
              "         [ 75],\n",
              "         [ 75],\n",
              "         [ 74],\n",
              "         [ 72],\n",
              "         [ 63],\n",
              "         [ 80],\n",
              "         [156],\n",
              "         [117],\n",
              "         [153],\n",
              "         [ 55],\n",
              "         [  0],\n",
              "         [  0],\n",
              "         [  0],\n",
              "         [  0]],\n",
              " \n",
              "        [[  0],\n",
              "         [  0],\n",
              "         [  0],\n",
              "         [ 10],\n",
              "         [ 80],\n",
              "         [ 72],\n",
              "         [157],\n",
              "         [163],\n",
              "         [ 61],\n",
              "         [ 55],\n",
              "         [ 75],\n",
              "         [ 77],\n",
              "         [ 75],\n",
              "         [ 77],\n",
              "         [ 75],\n",
              "         [ 75],\n",
              "         [ 75],\n",
              "         [ 77],\n",
              "         [ 71],\n",
              "         [ 60],\n",
              "         [ 98],\n",
              "         [156],\n",
              "         [132],\n",
              "         [ 58],\n",
              "         [  0],\n",
              "         [  0],\n",
              "         [  0],\n",
              "         [  0]],\n",
              " \n",
              "        [[  0],\n",
              "         [  0],\n",
              "         [  0],\n",
              "         [ 13],\n",
              "         [ 77],\n",
              "         [ 74],\n",
              "         [157],\n",
              "         [143],\n",
              "         [ 43],\n",
              "         [ 61],\n",
              "         [ 72],\n",
              "         [ 75],\n",
              "         [ 77],\n",
              "         [ 75],\n",
              "         [ 74],\n",
              "         [ 77],\n",
              "         [ 77],\n",
              "         [ 75],\n",
              "         [ 71],\n",
              "         [ 58],\n",
              "         [ 80],\n",
              "         [157],\n",
              "         [120],\n",
              "         [ 66],\n",
              "         [  0],\n",
              "         [  0],\n",
              "         [  0],\n",
              "         [  0]],\n",
              " \n",
              "        [[  0],\n",
              "         [  0],\n",
              "         [  0],\n",
              "         [ 18],\n",
              "         [ 81],\n",
              "         [ 74],\n",
              "         [156],\n",
              "         [114],\n",
              "         [ 35],\n",
              "         [ 72],\n",
              "         [ 71],\n",
              "         [ 75],\n",
              "         [ 78],\n",
              "         [ 72],\n",
              "         [ 66],\n",
              "         [ 80],\n",
              "         [ 78],\n",
              "         [ 77],\n",
              "         [ 75],\n",
              "         [ 64],\n",
              "         [ 63],\n",
              "         [165],\n",
              "         [119],\n",
              "         [ 68],\n",
              "         [  0],\n",
              "         [  0],\n",
              "         [  0],\n",
              "         [  0]],\n",
              " \n",
              "        [[  0],\n",
              "         [  0],\n",
              "         [  0],\n",
              "         [ 23],\n",
              "         [ 85],\n",
              "         [ 81],\n",
              "         [177],\n",
              "         [ 57],\n",
              "         [ 52],\n",
              "         [ 77],\n",
              "         [ 71],\n",
              "         [ 78],\n",
              "         [ 80],\n",
              "         [ 72],\n",
              "         [ 75],\n",
              "         [ 74],\n",
              "         [ 77],\n",
              "         [ 77],\n",
              "         [ 75],\n",
              "         [ 64],\n",
              "         [ 37],\n",
              "         [173],\n",
              "         [ 95],\n",
              "         [ 72],\n",
              "         [  0],\n",
              "         [  0],\n",
              "         [  0],\n",
              "         [  0]],\n",
              " \n",
              "        [[  0],\n",
              "         [  0],\n",
              "         [  0],\n",
              "         [ 26],\n",
              "         [ 81],\n",
              "         [ 86],\n",
              "         [160],\n",
              "         [ 20],\n",
              "         [ 75],\n",
              "         [ 77],\n",
              "         [ 77],\n",
              "         [ 80],\n",
              "         [ 78],\n",
              "         [ 80],\n",
              "         [ 89],\n",
              "         [ 78],\n",
              "         [ 81],\n",
              "         [ 83],\n",
              "         [ 80],\n",
              "         [ 74],\n",
              "         [ 20],\n",
              "         [177],\n",
              "         [ 77],\n",
              "         [ 74],\n",
              "         [  0],\n",
              "         [  0],\n",
              "         [  0],\n",
              "         [  0]],\n",
              " \n",
              "        [[  0],\n",
              "         [  0],\n",
              "         [  0],\n",
              "         [ 49],\n",
              "         [ 77],\n",
              "         [ 91],\n",
              "         [200],\n",
              "         [  0],\n",
              "         [ 83],\n",
              "         [ 95],\n",
              "         [ 86],\n",
              "         [ 88],\n",
              "         [ 88],\n",
              "         [ 89],\n",
              "         [ 88],\n",
              "         [ 89],\n",
              "         [ 88],\n",
              "         [ 83],\n",
              "         [ 89],\n",
              "         [ 86],\n",
              "         [  0],\n",
              "         [191],\n",
              "         [ 78],\n",
              "         [ 80],\n",
              "         [ 24],\n",
              "         [  0],\n",
              "         [  0],\n",
              "         [  0]],\n",
              " \n",
              "        [[  0],\n",
              "         [  0],\n",
              "         [  0],\n",
              "         [ 54],\n",
              "         [ 71],\n",
              "         [108],\n",
              "         [165],\n",
              "         [  0],\n",
              "         [ 24],\n",
              "         [ 57],\n",
              "         [ 52],\n",
              "         [ 57],\n",
              "         [ 60],\n",
              "         [ 60],\n",
              "         [ 60],\n",
              "         [ 63],\n",
              "         [ 63],\n",
              "         [ 77],\n",
              "         [ 89],\n",
              "         [ 52],\n",
              "         [  0],\n",
              "         [211],\n",
              "         [ 97],\n",
              "         [ 77],\n",
              "         [ 61],\n",
              "         [  0],\n",
              "         [  0],\n",
              "         [  0]],\n",
              " \n",
              "        [[  0],\n",
              "         [  0],\n",
              "         [  0],\n",
              "         [ 68],\n",
              "         [ 91],\n",
              "         [117],\n",
              "         [137],\n",
              "         [  0],\n",
              "         [  0],\n",
              "         [  0],\n",
              "         [  0],\n",
              "         [  0],\n",
              "         [  0],\n",
              "         [  0],\n",
              "         [  0],\n",
              "         [  0],\n",
              "         [  0],\n",
              "         [  0],\n",
              "         [  0],\n",
              "         [  0],\n",
              "         [ 18],\n",
              "         [216],\n",
              "         [ 94],\n",
              "         [ 97],\n",
              "         [ 57],\n",
              "         [  0],\n",
              "         [  0],\n",
              "         [  0]],\n",
              " \n",
              "        [[  0],\n",
              "         [  0],\n",
              "         [  0],\n",
              "         [ 54],\n",
              "         [115],\n",
              "         [105],\n",
              "         [185],\n",
              "         [  0],\n",
              "         [  0],\n",
              "         [  1],\n",
              "         [  0],\n",
              "         [  0],\n",
              "         [  0],\n",
              "         [  0],\n",
              "         [  0],\n",
              "         [  0],\n",
              "         [  0],\n",
              "         [  0],\n",
              "         [  0],\n",
              "         [  0],\n",
              "         [  0],\n",
              "         [153],\n",
              "         [ 78],\n",
              "         [106],\n",
              "         [ 37],\n",
              "         [  0],\n",
              "         [  0],\n",
              "         [  0]],\n",
              " \n",
              "        [[  0],\n",
              "         [  0],\n",
              "         [  0],\n",
              "         [ 18],\n",
              "         [ 61],\n",
              "         [ 41],\n",
              "         [103],\n",
              "         [  0],\n",
              "         [  0],\n",
              "         [  0],\n",
              "         [  0],\n",
              "         [  0],\n",
              "         [  0],\n",
              "         [  0],\n",
              "         [  0],\n",
              "         [  0],\n",
              "         [  0],\n",
              "         [  0],\n",
              "         [  0],\n",
              "         [  0],\n",
              "         [  0],\n",
              "         [106],\n",
              "         [ 47],\n",
              "         [ 69],\n",
              "         [ 23],\n",
              "         [  0],\n",
              "         [  0],\n",
              "         [  0]]], dtype=uint8), 'label': 2}"
            ]
          },
          "metadata": {},
          "execution_count": 57
        }
      ]
    },
    {
      "cell_type": "markdown",
      "source": [
        "# Visualize Data and buid Dataset"
      ],
      "metadata": {
        "id": "3oToYyK_fqoV"
      }
    },
    {
      "cell_type": "code",
      "source": [
        "#do some data transformation\n",
        "import numpy as np"
      ],
      "metadata": {
        "id": "fz7GDNicdasT"
      },
      "execution_count": 58,
      "outputs": []
    },
    {
      "cell_type": "code",
      "source": [
        "#setup connection aka iterator\n",
        "data_iterator = ds.as_numpy_iterator()"
      ],
      "metadata": {
        "id": "I1uxzRHwdapa"
      },
      "execution_count": 59,
      "outputs": []
    },
    {
      "cell_type": "code",
      "source": [
        "data_iterator.next()"
      ],
      "metadata": {
        "id": "zAHn_mYzdam2"
      },
      "execution_count": null,
      "outputs": []
    },
    {
      "cell_type": "code",
      "source": [
        "#subplot formatting\n",
        "fig, ax = plt.subplots(ncols=4,figsize=(20,20))\n",
        "#loop 4 times and get images\n",
        "for idx in range(4):\n",
        "  sample = data_iterator.next()\n",
        "  ax[idx].imshow(np.squeeze(sample['image']))\n",
        "  ax[idx].title.set_text(sample['label'])"
      ],
      "metadata": {
        "colab": {
          "base_uri": "https://localhost:8080/",
          "height": 307
        },
        "id": "B3NJwYgfg0hf",
        "outputId": "016fd38e-101c-4ee9-a7ba-6d31cd8c07e8"
      },
      "execution_count": 61,
      "outputs": [
        {
          "output_type": "display_data",
          "data": {
            "text/plain": [
              "<Figure size 1440x1440 with 4 Axes>"
            ],
            "image/png": "[encoded data removed]"
          },
          "metadata": {
            "needs_background": "light"
          }
        }
      ]
    },
    {
      "cell_type": "code",
      "source": [
        "#scale and return image only\n",
        "def scale_image(data):\n",
        "  image = data['image']\n",
        "  return image /255"
      ],
      "metadata": {
        "id": "WiHMrfuPg0e7"
      },
      "execution_count": 62,
      "outputs": []
    },
    {
      "cell_type": "code",
      "source": [
        "#reload the dataset\n",
        "ds = tfds.load('fashion_mnist',split='train')\n",
        "#running the dataset through the scale image preprocessing\n",
        "ds = ds.map(scale_image)\n",
        "#cache the dataset for that batch\n",
        "ds = ds.cache()\n",
        "#shuffle it\n",
        "ds = ds.shuffle(60000)\n",
        "#batch into 128 images per sample\n",
        "ds = ds.batch(128)\n",
        "#reduce the likelihood of bottleneck\n",
        "ds = ds.prefetch(64)"
      ],
      "metadata": {
        "id": "vQl2K28wg0az"
      },
      "execution_count": 63,
      "outputs": []
    },
    {
      "cell_type": "code",
      "source": [
        "ds.as_numpy_iterator().next().shape"
      ],
      "metadata": {
        "id": "yacGNwJ6g0Xe",
        "colab": {
          "base_uri": "https://localhost:8080/"
        },
        "outputId": "a8b40be4-6481-40bc-a787-e7943ca46079"
      },
      "execution_count": 64,
      "outputs": [
        {
          "output_type": "execute_result",
          "data": {
            "text/plain": [
              "(128, 28, 28, 1)"
            ]
          },
          "metadata": {},
          "execution_count": 64
        }
      ]
    },
    {
      "cell_type": "markdown",
      "source": [
        "# Build the neural network"
      ],
      "metadata": {
        "id": "SYBq6kBJ7gms"
      }
    },
    {
      "cell_type": "markdown",
      "source": [
        "## import modelling components"
      ],
      "metadata": {
        "id": "Pg8ulz4o8TvA"
      }
    },
    {
      "cell_type": "code",
      "source": [
        "from tensorflow.keras.models import Sequential\n",
        "from tensorflow.keras.layers import Conv2D, Dense, Flatten, Reshape, LeakyReLU, UpSampling2D, Dropout"
      ],
      "metadata": {
        "id": "TemJ5b2d6R9M"
      },
      "execution_count": 65,
      "outputs": []
    },
    {
      "cell_type": "markdown",
      "source": [
        "## Build the generator"
      ],
      "metadata": {
        "id": "vumaiu0B9jff"
      }
    },
    {
      "cell_type": "code",
      "source": [
        "def build_generator():\n",
        "  model = Sequential()\n",
        "\n",
        "  #takes in random values and reshapes it to 7,7,128\n",
        "  #beginnings of a generated image\n",
        "  model.add(Dense(7*7*128, input_dim=128))\n",
        "  model.add(LeakyReLU(0.2))\n",
        "  model.add(Reshape((7,7,128)))\n",
        "\n",
        "  #upsampling block 1\n",
        "  model.add(UpSampling2D())\n",
        "  model.add(Conv2D(128,5,padding='same'))\n",
        "  model.add(LeakyReLU(0.2))\n",
        "\n",
        "  #upsampling block 2\n",
        "  model.add(UpSampling2D())\n",
        "  model.add(Conv2D(128,5,padding='same'))\n",
        "  model.add(LeakyReLU(0.2))\n",
        "\n",
        "  #convolutional block 1\n",
        "  model.add(Conv2D(128,4,padding='same'))\n",
        "  model.add(LeakyReLU(0.2))\n",
        "\n",
        "  #convolutional block 2\n",
        "  model.add(Conv2D(128,4,padding='same'))\n",
        "  model.add(LeakyReLU(0.2))\n",
        "\n",
        "  #conv layer to get to one channel\n",
        "  model.add(Conv2D(1,4,padding='same',activation='sigmoid'))\n",
        "\n",
        "\n",
        "  return model"
      ],
      "metadata": {
        "id": "5jbMhrqH6R60"
      },
      "execution_count": 66,
      "outputs": []
    },
    {
      "cell_type": "code",
      "source": [
        "test_model = build_generator()"
      ],
      "metadata": {
        "id": "2PpoizYl6R32"
      },
      "execution_count": 67,
      "outputs": []
    },
    {
      "cell_type": "code",
      "source": [
        "test_model.summary()"
      ],
      "metadata": {
        "colab": {
          "base_uri": "https://localhost:8080/"
        },
        "id": "VhbQuz-y6R00",
        "outputId": "667e5def-5191-4519-840c-4a1c408f38b7"
      },
      "execution_count": 68,
      "outputs": [
        {
          "output_type": "stream",
          "name": "stdout",
          "text": [
            "Model: \"sequential_7\"\n",
            "_________________________________________________________________\n",
            " Layer (type)                Output Shape              Param #   \n",
            "=================================================================\n",
            " dense_7 (Dense)             (None, 6272)              809088    \n",
            "                                                                 \n",
            " leaky_re_lu_28 (LeakyReLU)  (None, 6272)              0         \n",
            "                                                                 \n",
            " reshape_6 (Reshape)         (None, 7, 7, 128)         0         \n",
            "                                                                 \n",
            " up_sampling2d_8 (UpSampling  (None, 14, 14, 128)      0         \n",
            " 2D)                                                             \n",
            "                                                                 \n",
            " conv2d_26 (Conv2D)          (None, 14, 14, 128)       409728    \n",
            "                                                                 \n",
            " leaky_re_lu_29 (LeakyReLU)  (None, 14, 14, 128)       0         \n",
            "                                                                 \n",
            " up_sampling2d_9 (UpSampling  (None, 28, 28, 128)      0         \n",
            " 2D)                                                             \n",
            "                                                                 \n",
            " conv2d_27 (Conv2D)          (None, 28, 28, 128)       409728    \n",
            "                                                                 \n",
            " leaky_re_lu_30 (LeakyReLU)  (None, 28, 28, 128)       0         \n",
            "                                                                 \n",
            " conv2d_28 (Conv2D)          (None, 28, 28, 128)       262272    \n",
            "                                                                 \n",
            " leaky_re_lu_31 (LeakyReLU)  (None, 28, 28, 128)       0         \n",
            "                                                                 \n",
            " conv2d_29 (Conv2D)          (None, 28, 28, 128)       262272    \n",
            "                                                                 \n",
            " leaky_re_lu_32 (LeakyReLU)  (None, 28, 28, 128)       0         \n",
            "                                                                 \n",
            " conv2d_30 (Conv2D)          (None, 28, 28, 1)         2049      \n",
            "                                                                 \n",
            "=================================================================\n",
            "Total params: 2,155,137\n",
            "Trainable params: 2,155,137\n",
            "Non-trainable params: 0\n",
            "_________________________________________________________________\n"
          ]
        }
      ]
    },
    {
      "cell_type": "code",
      "source": [
        "generator = build_generator()"
      ],
      "metadata": {
        "id": "JYeDUDXDAaeF"
      },
      "execution_count": 69,
      "outputs": []
    },
    {
      "cell_type": "code",
      "source": [
        "img = generator.predict(np.random.randn(4,128,1))\n"
      ],
      "metadata": {
        "id": "5IM1MnSwOJ1R"
      },
      "execution_count": 80,
      "outputs": []
    },
    {
      "cell_type": "code",
      "source": [
        "img.shape"
      ],
      "metadata": {
        "colab": {
          "base_uri": "https://localhost:8080/"
        },
        "id": "zaTPo_XtOKxx",
        "outputId": "2cb7cdb0-9e8e-4bd7-a712-45ecd3e0686c"
      },
      "execution_count": 81,
      "outputs": [
        {
          "output_type": "execute_result",
          "data": {
            "text/plain": [
              "(4, 28, 28, 1)"
            ]
          },
          "metadata": {},
          "execution_count": 81
        }
      ]
    },
    {
      "cell_type": "code",
      "source": [
        "# Generate new fashion\n",
        "img = generator.predict(np.random.randn(4,128,1))\n",
        "# Setup the subplot formatting \n",
        "fig, ax = plt.subplots(ncols=4, figsize=(20,20))\n",
        "# Loop four times and get images \n",
        "for idx, img in enumerate(img): \n",
        "    # Plot the image using a specific subplot \n",
        "    ax[idx].imshow(np.squeeze(img))\n",
        "    # Appending the image label as the plot title \n",
        "    ax[idx].title.set_text(idx)"
      ],
      "metadata": {
        "colab": {
          "base_uri": "https://localhost:8080/",
          "height": 307
        },
        "id": "XZenY3k2EL0D",
        "outputId": "c76a9864-6fa0-49c4-ba03-edba1b979647"
      },
      "execution_count": 70,
      "outputs": [
        {
          "output_type": "display_data",
          "data": {
            "text/plain": [
              "<Figure size 1440x1440 with 4 Axes>"
            ],
            "image/png": "[encoded data removed]"
          },
          "metadata": {
            "needs_background": "light"
          }
        }
      ]
    },
    {
      "cell_type": "markdown",
      "source": [
        "## build discriminator"
      ],
      "metadata": {
        "id": "WvZWAcVrFRpO"
      }
    },
    {
      "cell_type": "code",
      "source": [
        "def build_discriminator(): \n",
        "    model = Sequential()\n",
        "    \n",
        "    # First Conv Block\n",
        "    model.add(Conv2D(32, 5, input_shape = (28,28,1)))\n",
        "    model.add(LeakyReLU(0.2))\n",
        "    model.add(Dropout(0.4))\n",
        "    \n",
        "    # Second Conv Block\n",
        "    model.add(Conv2D(64, 5))\n",
        "    model.add(LeakyReLU(0.2))\n",
        "    model.add(Dropout(0.4))\n",
        "    \n",
        "    # Third Conv Block\n",
        "    model.add(Conv2D(128, 5))\n",
        "    model.add(LeakyReLU(0.2))\n",
        "    model.add(Dropout(0.4))\n",
        "    \n",
        "    # Fourth Conv Block\n",
        "    model.add(Conv2D(256, 5))\n",
        "    model.add(LeakyReLU(0.2))\n",
        "    model.add(Dropout(0.4))\n",
        "    \n",
        "    # Flatten then pass to dense layer\n",
        "    model.add(Flatten())\n",
        "    model.add(Dropout(0.4))\n",
        "    model.add(Dense(1, activation='sigmoid'))\n",
        "    \n",
        "    return model \n"
      ],
      "metadata": {
        "id": "MfyouddcEiUm"
      },
      "execution_count": 71,
      "outputs": []
    },
    {
      "cell_type": "code",
      "source": [
        "discriminator = build_discriminator()"
      ],
      "metadata": {
        "id": "5UOCMM_nGGTr"
      },
      "execution_count": 72,
      "outputs": []
    },
    {
      "cell_type": "code",
      "source": [
        "discriminator.summary()"
      ],
      "metadata": {
        "colab": {
          "base_uri": "https://localhost:8080/"
        },
        "id": "1-ThF3imGGQ_",
        "outputId": "3ebf65c3-40b3-43a1-a163-f1baa9043bd6"
      },
      "execution_count": 73,
      "outputs": [
        {
          "output_type": "stream",
          "name": "stdout",
          "text": [
            "Model: \"sequential_9\"\n",
            "_________________________________________________________________\n",
            " Layer (type)                Output Shape              Param #   \n",
            "=================================================================\n",
            " conv2d_36 (Conv2D)          (None, 24, 24, 32)        832       \n",
            "                                                                 \n",
            " leaky_re_lu_38 (LeakyReLU)  (None, 24, 24, 32)        0         \n",
            "                                                                 \n",
            " dropout_5 (Dropout)         (None, 24, 24, 32)        0         \n",
            "                                                                 \n",
            " conv2d_37 (Conv2D)          (None, 20, 20, 64)        51264     \n",
            "                                                                 \n",
            " leaky_re_lu_39 (LeakyReLU)  (None, 20, 20, 64)        0         \n",
            "                                                                 \n",
            " dropout_6 (Dropout)         (None, 20, 20, 64)        0         \n",
            "                                                                 \n",
            " conv2d_38 (Conv2D)          (None, 16, 16, 128)       204928    \n",
            "                                                                 \n",
            " leaky_re_lu_40 (LeakyReLU)  (None, 16, 16, 128)       0         \n",
            "                                                                 \n",
            " dropout_7 (Dropout)         (None, 16, 16, 128)       0         \n",
            "                                                                 \n",
            " conv2d_39 (Conv2D)          (None, 12, 12, 256)       819456    \n",
            "                                                                 \n",
            " leaky_re_lu_41 (LeakyReLU)  (None, 12, 12, 256)       0         \n",
            "                                                                 \n",
            " dropout_8 (Dropout)         (None, 12, 12, 256)       0         \n",
            "                                                                 \n",
            " flatten_1 (Flatten)         (None, 36864)             0         \n",
            "                                                                 \n",
            " dropout_9 (Dropout)         (None, 36864)             0         \n",
            "                                                                 \n",
            " dense_9 (Dense)             (None, 1)                 36865     \n",
            "                                                                 \n",
            "=================================================================\n",
            "Total params: 1,113,345\n",
            "Trainable params: 1,113,345\n",
            "Non-trainable params: 0\n",
            "_________________________________________________________________\n"
          ]
        }
      ]
    },
    {
      "cell_type": "code",
      "source": [
        "img = img[0]\n"
      ],
      "metadata": {
        "id": "NGRCIPvEGGNP"
      },
      "execution_count": 82,
      "outputs": []
    },
    {
      "cell_type": "code",
      "source": [
        "img.shape\n"
      ],
      "metadata": {
        "colab": {
          "base_uri": "https://localhost:8080/"
        },
        "id": "XM8q4c8XGGKn",
        "outputId": "ef30edb0-e5f5-45e6-86dd-0381f92ce160"
      },
      "execution_count": 84,
      "outputs": [
        {
          "output_type": "execute_result",
          "data": {
            "text/plain": [
              "(28, 28, 1)"
            ]
          },
          "metadata": {},
          "execution_count": 84
        }
      ]
    },
    {
      "cell_type": "code",
      "source": [
        "discriminator.predict(np.expand_dims(img,0))\n"
      ],
      "metadata": {
        "colab": {
          "base_uri": "https://localhost:8080/"
        },
        "id": "mMKAKnggNfJ-",
        "outputId": "4f972cb7-4181-4427-d853-6d595e482201"
      },
      "execution_count": 85,
      "outputs": [
        {
          "output_type": "execute_result",
          "data": {
            "text/plain": [
              "array([[0.48434335]], dtype=float32)"
            ]
          },
          "metadata": {},
          "execution_count": 85
        }
      ]
    },
    {
      "cell_type": "markdown",
      "source": [
        "# Construct training loop"
      ],
      "metadata": {
        "id": "6WUGJ3OPOd6t"
      }
    },
    {
      "cell_type": "markdown",
      "source": [
        "## setup loss and optimizers"
      ],
      "metadata": {
        "id": "pyAzbNSRPDAo"
      }
    },
    {
      "cell_type": "code",
      "source": [
        "# Adam is going to be the optimizer for both\n",
        "from tensorflow.keras.optimizers import Adam\n",
        "# Binary cross entropy is going to be the loss for both \n",
        "from tensorflow.keras.losses import BinaryCrossentropy"
      ],
      "metadata": {
        "id": "9pxE6EHCOatU"
      },
      "execution_count": 86,
      "outputs": []
    },
    {
      "cell_type": "markdown",
      "source": [
        "## Build subclass model"
      ],
      "metadata": {
        "id": "rsbgYHB8Pt_k"
      }
    },
    {
      "cell_type": "code",
      "source": [
        "g_opt = Adam(learning_rate=0.0001) \n",
        "d_opt = Adam(learning_rate=0.00001) \n",
        "g_loss = BinaryCrossentropy()\n",
        "d_loss = BinaryCrossentropy()"
      ],
      "metadata": {
        "id": "dIpvsAz0PbJ_"
      },
      "execution_count": 87,
      "outputs": []
    },
    {
      "cell_type": "code",
      "source": [
        "# Importing the base model class to subclass our training step \n",
        "from tensorflow.keras.models import Model"
      ],
      "metadata": {
        "id": "OK671HP3PbG1"
      },
      "execution_count": 88,
      "outputs": []
    },
    {
      "cell_type": "code",
      "source": [
        "class gan_fashion(Model):\n",
        "  def __init__(self,generator,discriminator,*args,**kwargs):\n",
        "    #pass through args and kwargs to base class\n",
        "    super().__init__(*args,**kwargs)\n",
        "\n",
        "    #create attributes for generator and discriminator\n",
        "    self.generator = generator\n",
        "    self.discriminator = discriminator\n",
        "\n",
        "    \n",
        "\n",
        "\n",
        "  def compile(self,g_opt,d_opt,g_loss,d_loss,*args,**kwargs):\n",
        "    #compile with base class\n",
        "    super().__init__(*args,**kwargs)\n",
        "\n",
        "    #create attributes for losses and optimizers\n",
        "    self.g_opt = g_opt\n",
        "    self.d_opt = d_opt\n",
        "    self.g_loss = g_loss\n",
        "    self.d_loss = d_loss\n",
        "\n",
        "\n",
        "\n",
        "\n",
        "  def train_step(self,batch):\n",
        "    #get the data\n",
        "    real_images = batch\n",
        "    fake_images = self.generator(tf.random.normal((128,128,1)),training = False)\n",
        "\n",
        "    #train the discriminator\n",
        "    with tf.GradientTape() as d_tape:\n",
        "\n",
        "      #pass the real and fake images\n",
        "      yhat_real = self.discriminator(real_images, training=True)\n",
        "      yhat_fake = self.discriminator(fake_images, training=True)\n",
        "      yhat_realfake = tf.concat([real_images,fake_images],axis=0)\n",
        "\n",
        "\n",
        "      #create labels for real and fake images\n",
        "      y_realfake = tf.concat([tf.zeros_like(yhat_real),tf.ones_like(yhat_fake)],axis=0)\n",
        "      #add some noise to the outputs\n",
        "      #calculate loss\n",
        "      # apply backpropagation -nn learn\n",
        "\n",
        "\n",
        "\n",
        "\n",
        "\n",
        "    pass\n"
      ],
      "metadata": {
        "id": "QIFkPaxLPbD1"
      },
      "execution_count": null,
      "outputs": []
    },
    {
      "cell_type": "code",
      "source": [
        ""
      ],
      "metadata": {
        "id": "vyFZvB0CPbA3"
      },
      "execution_count": null,
      "outputs": []
    },
    {
      "cell_type": "code",
      "source": [
        ""
      ],
      "metadata": {
        "id": "ZuSOsOJuPa-H"
      },
      "execution_count": null,
      "outputs": []
    },
    {
      "cell_type": "code",
      "source": [
        ""
      ],
      "metadata": {
        "id": "OppPPpkQPa7N"
      },
      "execution_count": null,
      "outputs": []
    },
    {
      "cell_type": "code",
      "source": [
        ""
      ],
      "metadata": {
        "id": "WopVBmstPa4x"
      },
      "execution_count": null,
      "outputs": []
    },
    {
      "cell_type": "code",
      "source": [
        ""
      ],
      "metadata": {
        "id": "ck_p9fsWPa1E"
      },
      "execution_count": null,
      "outputs": []
    },
    {
      "cell_type": "code",
      "source": [
        ""
      ],
      "metadata": {
        "id": "_qxZjGBuPayN"
      },
      "execution_count": null,
      "outputs": []
    },
    {
      "cell_type": "code",
      "source": [
        ""
      ],
      "metadata": {
        "id": "J4Y8oSzJPaw1"
      },
      "execution_count": null,
      "outputs": []
    },
    {
      "cell_type": "code",
      "source": [
        ""
      ],
      "metadata": {
        "id": "fesA2ykSPavK"
      },
      "execution_count": null,
      "outputs": []
    },
    {
      "cell_type": "code",
      "source": [
        ""
      ],
      "metadata": {
        "id": "o3zQUIfJPar2"
      },
      "execution_count": null,
      "outputs": []
    },
    {
      "cell_type": "code",
      "source": [
        ""
      ],
      "metadata": {
        "id": "BKOXu4xLPaop"
      },
      "execution_count": null,
      "outputs": []
    },
    {
      "cell_type": "code",
      "source": [
        ""
      ],
      "metadata": {
        "id": "oE8YSe8JPajX"
      },
      "execution_count": null,
      "outputs": []
    },
    {
      "cell_type": "code",
      "source": [
        ""
      ],
      "metadata": {
        "id": "KhWhDTegPagi"
      },
      "execution_count": null,
      "outputs": []
    },
    {
      "cell_type": "code",
      "source": [
        ""
      ],
      "metadata": {
        "id": "vdnrhz3XPad7"
      },
      "execution_count": null,
      "outputs": []
    },
    {
      "cell_type": "code",
      "source": [
        ""
      ],
      "metadata": {
        "id": "J73xbeTAPabU"
      },
      "execution_count": null,
      "outputs": []
    },
    {
      "cell_type": "code",
      "source": [
        ""
      ],
      "metadata": {
        "id": "0hEpoy7VPaYN"
      },
      "execution_count": null,
      "outputs": []
    },
    {
      "cell_type": "code",
      "source": [
        ""
      ],
      "metadata": {
        "id": "2osvU7_wPaVZ"
      },
      "execution_count": null,
      "outputs": []
    },
    {
      "cell_type": "code",
      "source": [
        ""
      ],
      "metadata": {
        "id": "cJsXXTfOPaS5"
      },
      "execution_count": null,
      "outputs": []
    }
  ]
}